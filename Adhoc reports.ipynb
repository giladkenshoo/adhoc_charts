{
 "cells": [
  {
   "cell_type": "code",
   "execution_count": 23,
   "metadata": {
    "scrolled": true
   },
   "outputs": [],
   "source": [
    "#import libraries\n",
    "from pylab import *\n",
    "import pandas as pd\n",
    "import numpy as np\n",
    "import matplotlib.pyplot as plt\n",
    "import matplotlib.dates as mdates"
   ]
  },
  {
   "cell_type": "code",
   "execution_count": 24,
   "metadata": {},
   "outputs": [],
   "source": [
    "df = pd.read_csv('./Data/Last_year.csv', parse_dates=['date'])"
   ]
  },
  {
   "cell_type": "code",
   "execution_count": 25,
   "metadata": {},
   "outputs": [],
   "source": [
    "def plot_daily_hourly_metrics(df, xcol_name='date', metrics=None):\n",
    "    fig, ax1 = plt.subplots()\n",
    "    ax1.plot(df[xcol_name], df[metrics])\n",
    "    ax1.set_xlabel('Year Month_day')\n",
    "    \n",
    "    days = mdates.DayLocator(interval=15)   # every day\n",
    "    months = mdates.MonthLocator(interval=3)\n",
    "    years = mdates.YearLocator()# every 2 months\n",
    "    daysFmt = mdates.DateFormatter('%b %d')\n",
    "    yearsFmt = mdates.DateFormatter('%Y')\n",
    "    \n",
    "    ax1.xaxis.set_major_locator(years)\n",
    "    ax1.xaxis.set_major_formatter(yearsFmt)\n",
    "    ax1.xaxis.set_minor_locator(days)\n",
    "    ax1.xaxis.set_minor_formatter(daysFmt)\n",
    "        \n",
    "    datemin = np.datetime64(df[xcol_name].iloc[0])\n",
    "    datemax = np.datetime64(df[xcol_name].iloc[-1])\n",
    "    ax1.set_xlim(datemin, datemax)\n",
    "    \n",
    "    plt.tick_params(axis='x', which='minor', labelsize=10, labelrotation=45, length=3)\n",
    "    plt.tick_params(axis='x', which='major', labelsize=15, labelrotation=45, length=10)\n",
    "    \n",
    "    fig.set_size_inches(18.5, 10.5, forward=True)\n",
    "    plt.legend(metrics)\n",
    "    plt.show()"
   ]
  },
  {
   "cell_type": "code",
   "execution_count": 26,
   "metadata": {},
   "outputs": [],
   "source": [
    "plot_daily_hourly_metrics(df, xcol_name='date', metrics='cost')"
   ]
  }
 ],
 "metadata": {
  "kernelspec": {
   "display_name": "Python 3",
   "language": "python",
   "name": "python3"
  },
  "language_info": {
   "codemirror_mode": {
    "name": "ipython",
    "version": 3
   },
   "file_extension": ".py",
   "mimetype": "text/x-python",
   "name": "python",
   "nbconvert_exporter": "python",
   "pygments_lexer": "ipython3",
   "version": "3.5.2"
  }
 },
 "nbformat": 4,
 "nbformat_minor": 2
}
